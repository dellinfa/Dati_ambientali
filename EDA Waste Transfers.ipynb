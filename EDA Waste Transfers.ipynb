{
 "cells": [
  {
   "cell_type": "markdown",
   "id": "1969bc18",
   "metadata": {},
   "source": [
    "IMPORT LIBRERIE E DATASET POLLUTANT TRANSFERS"
   ]
  },
  {
   "cell_type": "code",
   "execution_count": 19,
   "id": "f4c96988",
   "metadata": {},
   "outputs": [
    {
     "data": {
      "text/html": [
       "<div>\n",
       "<style scoped>\n",
       "    .dataframe tbody tr th:only-of-type {\n",
       "        vertical-align: middle;\n",
       "    }\n",
       "\n",
       "    .dataframe tbody tr th {\n",
       "        vertical-align: top;\n",
       "    }\n",
       "\n",
       "    .dataframe thead th {\n",
       "        text-align: right;\n",
       "    }\n",
       "</style>\n",
       "<table border=\"1\" class=\"dataframe\">\n",
       "  <thead>\n",
       "    <tr style=\"text-align: right;\">\n",
       "      <th></th>\n",
       "      <th>FacilityID</th>\n",
       "      <th>NationalID</th>\n",
       "      <th>FacilityName</th>\n",
       "      <th>StreetName</th>\n",
       "      <th>BuildingNumber</th>\n",
       "      <th>PostalCode</th>\n",
       "      <th>City</th>\n",
       "      <th>CountryName</th>\n",
       "      <th>Lat</th>\n",
       "      <th>Long</th>\n",
       "      <th>...</th>\n",
       "      <th>MainIASectorName</th>\n",
       "      <th>MainIAActivityName</th>\n",
       "      <th>MainIASubActivityName</th>\n",
       "      <th>MainActivityIndicator</th>\n",
       "      <th>ReportingYear</th>\n",
       "      <th>WasteTypeName</th>\n",
       "      <th>WasteTreatmentName</th>\n",
       "      <th>MethodBasisName</th>\n",
       "      <th>Quantity</th>\n",
       "      <th>WasteHandlerPartyName</th>\n",
       "    </tr>\n",
       "  </thead>\n",
       "  <tbody>\n",
       "    <tr>\n",
       "      <th>0</th>\n",
       "      <td>4659</td>\n",
       "      <td>06K000239</td>\n",
       "      <td>ArcelorMittal Poland S.A., Oddzia? w Krakowie</td>\n",
       "      <td>Ujastek 1</td>\n",
       "      <td>NaN</td>\n",
       "      <td>30-969</td>\n",
       "      <td>Krak�w</td>\n",
       "      <td>Poland</td>\n",
       "      <td>50,080333</td>\n",
       "      <td>20,092361</td>\n",
       "      <td>...</td>\n",
       "      <td>Productiona and processing of metals</td>\n",
       "      <td>Metal ore (including sulphide ore) roasting or...</td>\n",
       "      <td>NaN</td>\n",
       "      <td>False</td>\n",
       "      <td>2013</td>\n",
       "      <td>Non-hazardous waste</td>\n",
       "      <td>Destined for recovery</td>\n",
       "      <td>Measured</td>\n",
       "      <td>593000</td>\n",
       "      <td>NaN</td>\n",
       "    </tr>\n",
       "    <tr>\n",
       "      <th>1</th>\n",
       "      <td>4659</td>\n",
       "      <td>06K000239</td>\n",
       "      <td>ArcelorMittal Poland S.A., Oddzia? w Krakowie</td>\n",
       "      <td>Ujastek 1</td>\n",
       "      <td>NaN</td>\n",
       "      <td>30-969</td>\n",
       "      <td>Krak�w</td>\n",
       "      <td>Poland</td>\n",
       "      <td>50,080333</td>\n",
       "      <td>20,092361</td>\n",
       "      <td>...</td>\n",
       "      <td>Productiona and processing of metals</td>\n",
       "      <td>Metal ore (including sulphide ore) roasting or...</td>\n",
       "      <td>NaN</td>\n",
       "      <td>False</td>\n",
       "      <td>2013</td>\n",
       "      <td>Non-hazardous waste</td>\n",
       "      <td>Destined for disposal</td>\n",
       "      <td>Measured</td>\n",
       "      <td>35,1</td>\n",
       "      <td>NaN</td>\n",
       "    </tr>\n",
       "    <tr>\n",
       "      <th>2</th>\n",
       "      <td>4659</td>\n",
       "      <td>06K000239</td>\n",
       "      <td>ArcelorMittal Poland S.A., Oddzia? w Krakowie</td>\n",
       "      <td>Ujastek 1</td>\n",
       "      <td>NaN</td>\n",
       "      <td>30-969</td>\n",
       "      <td>Krak�w</td>\n",
       "      <td>Poland</td>\n",
       "      <td>50,080333</td>\n",
       "      <td>20,092361</td>\n",
       "      <td>...</td>\n",
       "      <td>Productiona and processing of metals</td>\n",
       "      <td>Metal ore (including sulphide ore) roasting or...</td>\n",
       "      <td>NaN</td>\n",
       "      <td>False</td>\n",
       "      <td>2013</td>\n",
       "      <td>Hazardous waste within country</td>\n",
       "      <td>Destined for recovery</td>\n",
       "      <td>Measured</td>\n",
       "      <td>484</td>\n",
       "      <td>NaN</td>\n",
       "    </tr>\n",
       "    <tr>\n",
       "      <th>3</th>\n",
       "      <td>4659</td>\n",
       "      <td>06K000239</td>\n",
       "      <td>ArcelorMittal Poland S.A., Oddzia? w Krakowie</td>\n",
       "      <td>Ujastek 1</td>\n",
       "      <td>NaN</td>\n",
       "      <td>30-969</td>\n",
       "      <td>Krak�w</td>\n",
       "      <td>Poland</td>\n",
       "      <td>50,080333</td>\n",
       "      <td>20,092361</td>\n",
       "      <td>...</td>\n",
       "      <td>Productiona and processing of metals</td>\n",
       "      <td>Metal ore (including sulphide ore) roasting or...</td>\n",
       "      <td>NaN</td>\n",
       "      <td>False</td>\n",
       "      <td>2013</td>\n",
       "      <td>Hazardous waste within country</td>\n",
       "      <td>Destined for disposal</td>\n",
       "      <td>Measured</td>\n",
       "      <td>1590</td>\n",
       "      <td>NaN</td>\n",
       "    </tr>\n",
       "    <tr>\n",
       "      <th>4</th>\n",
       "      <td>5119</td>\n",
       "      <td>08O000439</td>\n",
       "      <td>Grupa Azoty Zak?ady Azotowe K?dzierzyn Sp�?ka ...</td>\n",
       "      <td>Mostowa 30a</td>\n",
       "      <td>NaN</td>\n",
       "      <td>47-220</td>\n",
       "      <td>K?dzierzyn-Ko?le</td>\n",
       "      <td>Poland</td>\n",
       "      <td>50,304717</td>\n",
       "      <td>18,257825</td>\n",
       "      <td>...</td>\n",
       "      <td>Chemical industry</td>\n",
       "      <td>Chemical installations for the production on a...</td>\n",
       "      <td>NaN</td>\n",
       "      <td>False</td>\n",
       "      <td>2013</td>\n",
       "      <td>Non-hazardous waste</td>\n",
       "      <td>Destined for recovery</td>\n",
       "      <td>Measured</td>\n",
       "      <td>120000</td>\n",
       "      <td>NaN</td>\n",
       "    </tr>\n",
       "  </tbody>\n",
       "</table>\n",
       "<p>5 rows × 22 columns</p>\n",
       "</div>"
      ],
      "text/plain": [
       "   FacilityID NationalID                                       FacilityName  \\\n",
       "0        4659  06K000239      ArcelorMittal Poland S.A., Oddzia? w Krakowie   \n",
       "1        4659  06K000239      ArcelorMittal Poland S.A., Oddzia? w Krakowie   \n",
       "2        4659  06K000239      ArcelorMittal Poland S.A., Oddzia? w Krakowie   \n",
       "3        4659  06K000239      ArcelorMittal Poland S.A., Oddzia? w Krakowie   \n",
       "4        5119  08O000439  Grupa Azoty Zak?ady Azotowe K?dzierzyn Sp�?ka ...   \n",
       "\n",
       "    StreetName BuildingNumber PostalCode              City CountryName  \\\n",
       "0    Ujastek 1            NaN     30-969            Krak�w      Poland   \n",
       "1    Ujastek 1            NaN     30-969            Krak�w      Poland   \n",
       "2    Ujastek 1            NaN     30-969            Krak�w      Poland   \n",
       "3    Ujastek 1            NaN     30-969            Krak�w      Poland   \n",
       "4  Mostowa 30a            NaN     47-220  K?dzierzyn-Ko?le      Poland   \n",
       "\n",
       "         Lat       Long  ...                      MainIASectorName  \\\n",
       "0  50,080333  20,092361  ...  Productiona and processing of metals   \n",
       "1  50,080333  20,092361  ...  Productiona and processing of metals   \n",
       "2  50,080333  20,092361  ...  Productiona and processing of metals   \n",
       "3  50,080333  20,092361  ...  Productiona and processing of metals   \n",
       "4  50,304717  18,257825  ...                     Chemical industry   \n",
       "\n",
       "                                  MainIAActivityName MainIASubActivityName  \\\n",
       "0  Metal ore (including sulphide ore) roasting or...                   NaN   \n",
       "1  Metal ore (including sulphide ore) roasting or...                   NaN   \n",
       "2  Metal ore (including sulphide ore) roasting or...                   NaN   \n",
       "3  Metal ore (including sulphide ore) roasting or...                   NaN   \n",
       "4  Chemical installations for the production on a...                   NaN   \n",
       "\n",
       "  MainActivityIndicator ReportingYear                   WasteTypeName  \\\n",
       "0                 False          2013             Non-hazardous waste   \n",
       "1                 False          2013             Non-hazardous waste   \n",
       "2                 False          2013  Hazardous waste within country   \n",
       "3                 False          2013  Hazardous waste within country   \n",
       "4                 False          2013             Non-hazardous waste   \n",
       "\n",
       "      WasteTreatmentName MethodBasisName Quantity WasteHandlerPartyName  \n",
       "0  Destined for recovery        Measured   593000                   NaN  \n",
       "1  Destined for disposal        Measured     35,1                   NaN  \n",
       "2  Destined for recovery        Measured      484                   NaN  \n",
       "3  Destined for disposal        Measured     1590                   NaN  \n",
       "4  Destined for recovery        Measured   120000                   NaN  \n",
       "\n",
       "[5 rows x 22 columns]"
      ]
     },
     "execution_count": 19,
     "metadata": {},
     "output_type": "execute_result"
    }
   ],
   "source": [
    "#import dataset e librerie \n",
    "\n",
    "import numpy as np\n",
    "import pandas as pd\n",
    "\n",
    "df = pd.read_csv('Waste_Transfers_new.csv' ,sep =';')\n",
    "\n",
    "\n",
    "df.head()"
   ]
  },
  {
   "cell_type": "code",
   "execution_count": 2,
   "id": "4c19e0e2",
   "metadata": {},
   "outputs": [
    {
     "data": {
      "text/html": [
       "<div>\n",
       "<style scoped>\n",
       "    .dataframe tbody tr th:only-of-type {\n",
       "        vertical-align: middle;\n",
       "    }\n",
       "\n",
       "    .dataframe tbody tr th {\n",
       "        vertical-align: top;\n",
       "    }\n",
       "\n",
       "    .dataframe thead th {\n",
       "        text-align: right;\n",
       "    }\n",
       "</style>\n",
       "<table border=\"1\" class=\"dataframe\">\n",
       "  <thead>\n",
       "    <tr style=\"text-align: right;\">\n",
       "      <th></th>\n",
       "      <th>FacilityID</th>\n",
       "      <th>NationalID</th>\n",
       "      <th>FacilityName</th>\n",
       "      <th>StreetName</th>\n",
       "      <th>BuildingNumber</th>\n",
       "      <th>PostalCode</th>\n",
       "      <th>City</th>\n",
       "      <th>CountryName</th>\n",
       "      <th>Lat</th>\n",
       "      <th>Long</th>\n",
       "      <th>...</th>\n",
       "      <th>MainIASectorName</th>\n",
       "      <th>MainIAActivityName</th>\n",
       "      <th>MainIASubActivityName</th>\n",
       "      <th>MainActivityIndicator</th>\n",
       "      <th>ReportingYear</th>\n",
       "      <th>WasteTypeName</th>\n",
       "      <th>WasteTreatmentName</th>\n",
       "      <th>MethodBasisName</th>\n",
       "      <th>Quantity</th>\n",
       "      <th>WasteHandlerPartyName</th>\n",
       "    </tr>\n",
       "  </thead>\n",
       "  <tbody>\n",
       "    <tr>\n",
       "      <th>765893</th>\n",
       "      <td>74753</td>\n",
       "      <td>14-80-56175410000</td>\n",
       "      <td>Vopelius Chemie AG Gesch�ftsbereich Galvano Ch...</td>\n",
       "      <td>Torgauer Stra�e</td>\n",
       "      <td>76 d</td>\n",
       "      <td>04318</td>\n",
       "      <td>Leipzig</td>\n",
       "      <td>Germany</td>\n",
       "      <td>51,34643204</td>\n",
       "      <td>12,42230913</td>\n",
       "      <td>...</td>\n",
       "      <td>Chemical industry</td>\n",
       "      <td>Chemical installations for the production on a...</td>\n",
       "      <td>- Salts</td>\n",
       "      <td>True</td>\n",
       "      <td>2009</td>\n",
       "      <td>Hazardous waste within country</td>\n",
       "      <td>Destined for recovery</td>\n",
       "      <td>Measured</td>\n",
       "      <td>66,9</td>\n",
       "      <td>NaN</td>\n",
       "    </tr>\n",
       "    <tr>\n",
       "      <th>765894</th>\n",
       "      <td>46908</td>\n",
       "      <td>15170</td>\n",
       "      <td>MKM Mansfelder Kupfer und Messing Kazakmyhs GmbH</td>\n",
       "      <td>Lichtl�cherberg 40</td>\n",
       "      <td>-</td>\n",
       "      <td>06333</td>\n",
       "      <td>Hettstedt</td>\n",
       "      <td>Germany</td>\n",
       "      <td>51,62320911</td>\n",
       "      <td>11,49309363</td>\n",
       "      <td>...</td>\n",
       "      <td>Productiona and processing of metals</td>\n",
       "      <td>Installations:</td>\n",
       "      <td>- For the smelting, including the alloying, of...</td>\n",
       "      <td>True</td>\n",
       "      <td>2009</td>\n",
       "      <td>Non-hazardous waste</td>\n",
       "      <td>Destined for disposal</td>\n",
       "      <td>Calculated</td>\n",
       "      <td>2690</td>\n",
       "      <td>NaN</td>\n",
       "    </tr>\n",
       "    <tr>\n",
       "      <th>765895</th>\n",
       "      <td>46908</td>\n",
       "      <td>15170</td>\n",
       "      <td>MKM Mansfelder Kupfer und Messing Kazakmyhs GmbH</td>\n",
       "      <td>Lichtl�cherberg 40</td>\n",
       "      <td>-</td>\n",
       "      <td>06333</td>\n",
       "      <td>Hettstedt</td>\n",
       "      <td>Germany</td>\n",
       "      <td>51,62320911</td>\n",
       "      <td>11,49309363</td>\n",
       "      <td>...</td>\n",
       "      <td>Productiona and processing of metals</td>\n",
       "      <td>Installations:</td>\n",
       "      <td>- For the smelting, including the alloying, of...</td>\n",
       "      <td>True</td>\n",
       "      <td>2009</td>\n",
       "      <td>Non-hazardous waste</td>\n",
       "      <td>Destined for recovery</td>\n",
       "      <td>Measured</td>\n",
       "      <td>351</td>\n",
       "      <td>NaN</td>\n",
       "    </tr>\n",
       "    <tr>\n",
       "      <th>765896</th>\n",
       "      <td>46908</td>\n",
       "      <td>15170</td>\n",
       "      <td>MKM Mansfelder Kupfer und Messing Kazakmyhs GmbH</td>\n",
       "      <td>Lichtl�cherberg 40</td>\n",
       "      <td>-</td>\n",
       "      <td>06333</td>\n",
       "      <td>Hettstedt</td>\n",
       "      <td>Germany</td>\n",
       "      <td>51,62320911</td>\n",
       "      <td>11,49309363</td>\n",
       "      <td>...</td>\n",
       "      <td>Productiona and processing of metals</td>\n",
       "      <td>Installations:</td>\n",
       "      <td>- For the smelting, including the alloying, of...</td>\n",
       "      <td>True</td>\n",
       "      <td>2009</td>\n",
       "      <td>Hazardous waste within country</td>\n",
       "      <td>Destined for disposal</td>\n",
       "      <td>Measured</td>\n",
       "      <td>232</td>\n",
       "      <td>NaN</td>\n",
       "    </tr>\n",
       "    <tr>\n",
       "      <th>765897</th>\n",
       "      <td>46908</td>\n",
       "      <td>15170</td>\n",
       "      <td>MKM Mansfelder Kupfer und Messing Kazakmyhs GmbH</td>\n",
       "      <td>Lichtl�cherberg 40</td>\n",
       "      <td>-</td>\n",
       "      <td>06333</td>\n",
       "      <td>Hettstedt</td>\n",
       "      <td>Germany</td>\n",
       "      <td>51,62320911</td>\n",
       "      <td>11,49309363</td>\n",
       "      <td>...</td>\n",
       "      <td>Productiona and processing of metals</td>\n",
       "      <td>Installations:</td>\n",
       "      <td>- For the smelting, including the alloying, of...</td>\n",
       "      <td>True</td>\n",
       "      <td>2009</td>\n",
       "      <td>Hazardous waste within country</td>\n",
       "      <td>Destined for recovery</td>\n",
       "      <td>Measured</td>\n",
       "      <td>855</td>\n",
       "      <td>NaN</td>\n",
       "    </tr>\n",
       "  </tbody>\n",
       "</table>\n",
       "<p>5 rows × 22 columns</p>\n",
       "</div>"
      ],
      "text/plain": [
       "        FacilityID         NationalID  \\\n",
       "765893       74753  14-80-56175410000   \n",
       "765894       46908              15170   \n",
       "765895       46908              15170   \n",
       "765896       46908              15170   \n",
       "765897       46908              15170   \n",
       "\n",
       "                                             FacilityName          StreetName  \\\n",
       "765893  Vopelius Chemie AG Gesch�ftsbereich Galvano Ch...     Torgauer Stra�e   \n",
       "765894   MKM Mansfelder Kupfer und Messing Kazakmyhs GmbH  Lichtl�cherberg 40   \n",
       "765895   MKM Mansfelder Kupfer und Messing Kazakmyhs GmbH  Lichtl�cherberg 40   \n",
       "765896   MKM Mansfelder Kupfer und Messing Kazakmyhs GmbH  Lichtl�cherberg 40   \n",
       "765897   MKM Mansfelder Kupfer und Messing Kazakmyhs GmbH  Lichtl�cherberg 40   \n",
       "\n",
       "       BuildingNumber PostalCode       City CountryName          Lat  \\\n",
       "765893           76 d      04318    Leipzig     Germany  51,34643204   \n",
       "765894              -      06333  Hettstedt     Germany  51,62320911   \n",
       "765895              -      06333  Hettstedt     Germany  51,62320911   \n",
       "765896              -      06333  Hettstedt     Germany  51,62320911   \n",
       "765897              -      06333  Hettstedt     Germany  51,62320911   \n",
       "\n",
       "               Long  ...                      MainIASectorName  \\\n",
       "765893  12,42230913  ...                     Chemical industry   \n",
       "765894  11,49309363  ...  Productiona and processing of metals   \n",
       "765895  11,49309363  ...  Productiona and processing of metals   \n",
       "765896  11,49309363  ...  Productiona and processing of metals   \n",
       "765897  11,49309363  ...  Productiona and processing of metals   \n",
       "\n",
       "                                       MainIAActivityName  \\\n",
       "765893  Chemical installations for the production on a...   \n",
       "765894                                     Installations:   \n",
       "765895                                     Installations:   \n",
       "765896                                     Installations:   \n",
       "765897                                     Installations:   \n",
       "\n",
       "                                    MainIASubActivityName  \\\n",
       "765893                                            - Salts   \n",
       "765894  - For the smelting, including the alloying, of...   \n",
       "765895  - For the smelting, including the alloying, of...   \n",
       "765896  - For the smelting, including the alloying, of...   \n",
       "765897  - For the smelting, including the alloying, of...   \n",
       "\n",
       "       MainActivityIndicator ReportingYear                   WasteTypeName  \\\n",
       "765893                  True          2009  Hazardous waste within country   \n",
       "765894                  True          2009             Non-hazardous waste   \n",
       "765895                  True          2009             Non-hazardous waste   \n",
       "765896                  True          2009  Hazardous waste within country   \n",
       "765897                  True          2009  Hazardous waste within country   \n",
       "\n",
       "           WasteTreatmentName MethodBasisName Quantity WasteHandlerPartyName  \n",
       "765893  Destined for recovery        Measured     66,9                   NaN  \n",
       "765894  Destined for disposal      Calculated     2690                   NaN  \n",
       "765895  Destined for recovery        Measured      351                   NaN  \n",
       "765896  Destined for disposal        Measured      232                   NaN  \n",
       "765897  Destined for recovery        Measured      855                   NaN  \n",
       "\n",
       "[5 rows x 22 columns]"
      ]
     },
     "execution_count": 2,
     "metadata": {},
     "output_type": "execute_result"
    }
   ],
   "source": [
    "df.tail()"
   ]
  },
  {
   "cell_type": "code",
   "execution_count": 3,
   "id": "b598cdfe",
   "metadata": {
    "scrolled": true
   },
   "outputs": [
    {
     "name": "stdout",
     "output_type": "stream",
     "text": [
      "<class 'pandas.core.frame.DataFrame'>\n",
      "RangeIndex: 765898 entries, 0 to 765897\n",
      "Data columns (total 22 columns):\n",
      " #   Column                  Non-Null Count   Dtype \n",
      "---  ------                  --------------   ----- \n",
      " 0   FacilityID              765898 non-null  int64 \n",
      " 1   NationalID              765898 non-null  object\n",
      " 2   FacilityName            765814 non-null  object\n",
      " 3   StreetName              759441 non-null  object\n",
      " 4   BuildingNumber          604582 non-null  object\n",
      " 5   PostalCode              765765 non-null  object\n",
      " 6   City                    765823 non-null  object\n",
      " 7   CountryName             765898 non-null  object\n",
      " 8   Lat                     765898 non-null  object\n",
      " 9   Long                    765898 non-null  object\n",
      " 10  CompetentAuthorityName  765898 non-null  object\n",
      " 11  MainIAActivityCode      765898 non-null  object\n",
      " 12  MainIASectorName        765898 non-null  object\n",
      " 13  MainIAActivityName      765898 non-null  object\n",
      " 14  MainIASubActivityName   118268 non-null  object\n",
      " 15  MainActivityIndicator   765898 non-null  bool  \n",
      " 16  ReportingYear           765898 non-null  int64 \n",
      " 17  WasteTypeName           765898 non-null  object\n",
      " 18  WasteTreatmentName      765898 non-null  object\n",
      " 19  MethodBasisName         765898 non-null  object\n",
      " 20  Quantity                765541 non-null  object\n",
      " 21  WasteHandlerPartyName   43853 non-null   object\n",
      "dtypes: bool(1), int64(2), object(19)\n",
      "memory usage: 123.4+ MB\n"
     ]
    }
   ],
   "source": [
    "df.info()"
   ]
  },
  {
   "cell_type": "code",
   "execution_count": 4,
   "id": "50687223",
   "metadata": {},
   "outputs": [
    {
     "data": {
      "text/plain": [
       "Hazardous waste within country     415757\n",
       "Non-hazardous waste                303595\n",
       "Hazardous waste outside country     46546\n",
       "Name: WasteTypeName, dtype: int64"
      ]
     },
     "execution_count": 4,
     "metadata": {},
     "output_type": "execute_result"
    }
   ],
   "source": [
    "df['WasteTypeName'].value_counts()"
   ]
  },
  {
   "cell_type": "code",
   "execution_count": 5,
   "id": "40da61e0",
   "metadata": {},
   "outputs": [
    {
     "data": {
      "text/plain": [
       "Destined for recovery    428023\n",
       "Destined for disposal    337543\n",
       "CONFIDENTIAL                332\n",
       "Name: WasteTreatmentName, dtype: int64"
      ]
     },
     "execution_count": 5,
     "metadata": {},
     "output_type": "execute_result"
    }
   ],
   "source": [
    "df['WasteTreatmentName'].value_counts()"
   ]
  },
  {
   "cell_type": "code",
   "execution_count": 6,
   "id": "c813d63f",
   "metadata": {},
   "outputs": [
    {
     "data": {
      "text/plain": [
       "Measured        687871\n",
       "Estimated        39673\n",
       "Calculated       38022\n",
       "CONFIDENTIAL       332\n",
       "Name: MethodBasisName, dtype: int64"
      ]
     },
     "execution_count": 6,
     "metadata": {},
     "output_type": "execute_result"
    }
   ],
   "source": [
    "df['MethodBasisName'].value_counts()"
   ]
  },
  {
   "cell_type": "code",
   "execution_count": 7,
   "id": "9dd84885",
   "metadata": {},
   "outputs": [
    {
     "data": {
      "text/plain": [
       "CONFIDENTIAL                            790\n",
       "ABRG GmbH                               399\n",
       ". (.)                                   365\n",
       "Chemviron Carbon                        287\n",
       "Fernwarme Wien  GmbH                    272\n",
       "                                       ... \n",
       "WOS ET RECYFUEL                           1\n",
       "Indaver Ireland Limited, W0036-02 81      1\n",
       "Baetsen BV                                1\n",
       "Campine Recycling (.)                     1\n",
       "Indaver Ireland/ W0036-12                 1\n",
       "Name: WasteHandlerPartyName, Length: 9849, dtype: int64"
      ]
     },
     "execution_count": 7,
     "metadata": {},
     "output_type": "execute_result"
    }
   ],
   "source": [
    "df['WasteHandlerPartyName'].value_counts()"
   ]
  },
  {
   "cell_type": "code",
   "execution_count": 8,
   "id": "26b2a9f7",
   "metadata": {},
   "outputs": [
    {
     "data": {
      "text/plain": [
       "0    593000.0\n",
       "1        35.1\n",
       "2       484.0\n",
       "3      1590.0\n",
       "4    120000.0\n",
       "Name: Quantity, dtype: float64"
      ]
     },
     "execution_count": 8,
     "metadata": {},
     "output_type": "execute_result"
    }
   ],
   "source": [
    "#trasformo quantità di inquinante misurato in kg in float usando una funzione lambda\n",
    "\n",
    "#\n",
    "\n",
    "\n",
    "\n",
    "df['Quantity'] = df['Quantity'].astype(str)\n",
    "\n",
    "\n",
    "\n",
    "df['Quantity'] = df['Quantity'].apply(lambda x: float(str(x.replace(',','.'))))\n",
    "\n",
    "df['Quantity'].head()\n"
   ]
  },
  {
   "cell_type": "code",
   "execution_count": 9,
   "id": "248c040b",
   "metadata": {},
   "outputs": [
    {
     "data": {
      "text/plain": [
       "Destined for recovery    428023\n",
       "Destined for disposal    337543\n",
       "CONFIDENTIAL                332\n",
       "Name: WasteTreatmentName, dtype: int64"
      ]
     },
     "execution_count": 9,
     "metadata": {},
     "output_type": "execute_result"
    }
   ],
   "source": [
    "df['WasteTreatmentName'].value_counts() "
   ]
  },
  {
   "cell_type": "code",
   "execution_count": 10,
   "id": "d652cbd3",
   "metadata": {},
   "outputs": [],
   "source": [
    "#droppo le confidential per applicare la regressione logistica e quindi algoritmo di classificazione\n",
    "df.drop(df[df['WasteTreatmentName']== 'CONFIDENTIAL'].index,inplace =True)"
   ]
  },
  {
   "cell_type": "code",
   "execution_count": 11,
   "id": "01b01222",
   "metadata": {},
   "outputs": [
    {
     "data": {
      "text/plain": [
       "Destined for recovery    428023\n",
       "Destined for disposal    337543\n",
       "Name: WasteTreatmentName, dtype: int64"
      ]
     },
     "execution_count": 11,
     "metadata": {},
     "output_type": "execute_result"
    }
   ],
   "source": [
    "#mi rendo conto se ho droppato\n",
    " \n",
    "df['WasteTreatmentName'].value_counts() "
   ]
  },
  {
   "cell_type": "code",
   "execution_count": 12,
   "id": "d21e5f2b",
   "metadata": {},
   "outputs": [],
   "source": [
    "#buona pratica X matrice maiuscola,  y vettore minuscola.\n",
    "\n",
    "X = df.drop(['WasteTreatmentName'],axis = 1)\n",
    "y = df['WasteTreatmentName'].ravel()"
   ]
  },
  {
   "cell_type": "code",
   "execution_count": 13,
   "id": "08140446",
   "metadata": {},
   "outputs": [
    {
     "name": "stdout",
     "output_type": "stream",
     "text": [
      "(765566, 21) (765566,)\n"
     ]
    }
   ],
   "source": [
    "print(X.shape , y.shape)"
   ]
  },
  {
   "cell_type": "code",
   "execution_count": 14,
   "id": "7b729d2d",
   "metadata": {},
   "outputs": [
    {
     "name": "stdout",
     "output_type": "stream",
     "text": [
      "(535896, 21) (229670,)\n",
      "(229670, 21) (535896,)\n"
     ]
    }
   ],
   "source": [
    "# split in train e test \n",
    "\n",
    "#import sklearn\n",
    "\n",
    "from sklearn.model_selection import train_test_split\n",
    "X_train,X_test,y_train,y_test = train_test_split(X,y,test_size = 0.3, random_state = 0)\n",
    "print(X_train.shape , y_test.shape)\n",
    "print(X_test.shape, y_train.shape)"
   ]
  },
  {
   "cell_type": "code",
   "execution_count": 16,
   "id": "0a2d1981",
   "metadata": {},
   "outputs": [
    {
     "name": "stdout",
     "output_type": "stream",
     "text": [
      "['Destined for recovery' 'Destined for disposal' 'Destined for recovery'\n",
      " ... 'Destined for recovery' 'Destined for recovery'\n",
      " 'Destined for recovery']\n"
     ]
    }
   ],
   "source": [
    "print(y_train)"
   ]
  },
  {
   "cell_type": "code",
   "execution_count": 25,
   "id": "1cd6a9ef",
   "metadata": {},
   "outputs": [
    {
     "name": "stdout",
     "output_type": "stream",
     "text": [
      "[['Destined for disposal' 236253]\n",
      " ['Destined for recovery' 299643]]\n",
      "media recuperati =  0.5591439383761029\n",
      "media smaltiti =  0.4408560616238972\n",
      "1.0\n"
     ]
    }
   ],
   "source": [
    "#vediamo le occorrenze nel train \n",
    "\n",
    "unique, counts = np.unique(y_train, return_counts=True)\n",
    "\n",
    "print(np.asarray((unique, counts)).T)\n",
    "\n",
    "#media recuperati \n",
    "\n",
    "media_recuperati = 299643 / (299643+236253)\n",
    "\n",
    "# media smaltiti\n",
    "\n",
    "media_smaltiti = 236253 / (299643+236253)\n",
    "\n",
    "print('media recuperati = ' , media_recuperati )\n",
    "\n",
    "print('media smaltiti = ' , media_smaltiti )\n",
    "\n"
   ]
  },
  {
   "cell_type": "code",
   "execution_count": 27,
   "id": "0e630781",
   "metadata": {},
   "outputs": [
    {
     "name": "stdout",
     "output_type": "stream",
     "text": [
      "[['Destined for disposal' 101290]\n",
      " ['Destined for recovery' 128380]]\n",
      "media recuperati =  0.5589759219750077\n",
      "media smaltiti =  0.4410240780249924\n"
     ]
    }
   ],
   "source": [
    "#vediamo le occorrenze nel test\n",
    "\n",
    "\n",
    "unique, counts = np.unique(y_test, return_counts=True)\n",
    "\n",
    "print(np.asarray((unique, counts)).T)\n",
    "\n",
    "#media recuperati \n",
    "\n",
    "media_recuperati = 128380 / (128380+101290)\n",
    "\n",
    "# media smaltiti\n",
    "\n",
    "media_smaltiti = 101290 / (128380+101290)\n",
    "\n",
    "print('media recuperati = ' , media_recuperati )\n",
    "\n",
    "print('media smaltiti = ' , media_smaltiti )\n"
   ]
  },
  {
   "cell_type": "markdown",
   "id": "9b2cd4be",
   "metadata": {},
   "source": [
    "Abbiamo quindi un paio di osservazioni da fare la media dei rifiuti recuperati sia nel train che nel test è simile. Forse i dati sono bilanciati.\n",
    "\n",
    "Seconda osservazione è che ci sono stati sicuramente più rifiuti recuperati che smaltiti\n",
    "\n"
   ]
  },
  {
   "cell_type": "code",
   "execution_count": 32,
   "id": "fe7eaf8d",
   "metadata": {},
   "outputs": [],
   "source": [
    "#iniziamo a creare il nostro modello importando quanto ci serve\n",
    "\n",
    "\n",
    "import sklearn\n",
    "\n",
    "from sklearn.dummy import DummyClassifier\n",
    "\n"
   ]
  },
  {
   "cell_type": "code",
   "execution_count": 33,
   "id": "89f2c0a4",
   "metadata": {},
   "outputs": [],
   "source": [
    "# creo l'oggetto modello\n",
    "\n",
    "dummy_model = DummyClassifier(strategy='most_frequent' , random_state = 0)"
   ]
  },
  {
   "cell_type": "code",
   "execution_count": 35,
   "id": "6779ccab",
   "metadata": {},
   "outputs": [
    {
     "data": {
      "text/plain": [
       "DummyClassifier(random_state=0, strategy='most_frequent')"
      ]
     },
     "execution_count": 35,
     "metadata": {},
     "output_type": "execute_result"
    }
   ],
   "source": [
    "#una volta creato il modello e settato su più frequente dobbiamo addestrarlo\n",
    "\n",
    "dummy_model.fit(X_train, y_train) \n",
    "\n",
    "#primo parametro è il parametro di input il secondo è quello di output\n",
    "#ovviamente utilizziamo i train per addestrare il nostro modello "
   ]
  },
  {
   "cell_type": "code",
   "execution_count": 37,
   "id": "eb507f64",
   "metadata": {},
   "outputs": [
    {
     "name": "stdout",
     "output_type": "stream",
     "text": [
      "score for baseline model : 0.56\n"
     ]
    }
   ],
   "source": [
    "#conseguentemente valutiamo le prestazioni del modello sui dati del test\n",
    "\n",
    "print('score for baseline model : {0:.2f}'.format(dummy_model.score(X_test,y_test)))\n",
    "\n",
    "#il modello prima predice l'output su X_test e poi lo confronterà con l'output effettivo\n",
    "\n",
    "\n",
    "#ACCURACY = 56% = BASELINE ACCURACY OF DISPOSAL "
   ]
  },
  {
   "cell_type": "code",
   "execution_count": 40,
   "id": "987eece4",
   "metadata": {},
   "outputs": [],
   "source": [
    "#calcoliamo ora accuracy_score ,confusion_matrix,precision_score,recall_score.\n",
    "#prima però importiamoli\n",
    "\n",
    "from sklearn.metrics import accuracy_score ,confusion_matrix,precision_score,recall_score"
   ]
  },
  {
   "cell_type": "code",
   "execution_count": 41,
   "id": "0369e182",
   "metadata": {},
   "outputs": [
    {
     "name": "stdout",
     "output_type": "stream",
     "text": [
      "accuracy_score for baseline model : 0.56\n"
     ]
    }
   ],
   "source": [
    "print('accuracy_score for baseline model : {0:.2f}'.format(accuracy_score(y_test,dummy_model.predict(X_test),pos_label = \"\")))"
   ]
  },
  {
   "cell_type": "code",
   "execution_count": 45,
   "id": "8c66cb71",
   "metadata": {},
   "outputs": [
    {
     "name": "stdout",
     "output_type": "stream",
     "text": [
      "accuracy_score for baseline model : 0.00\n"
     ]
    }
   ],
   "source": [
    "print('recall_score for baseline model : {0:.2f}'.format(recall_score(y_test,dummy_model.predict(X_test),pos_label = \"Destined for disposal\")))"
   ]
  },
  {
   "cell_type": "code",
   "execution_count": 46,
   "id": "d7ea39da",
   "metadata": {},
   "outputs": [
    {
     "name": "stdout",
     "output_type": "stream",
     "text": [
      "recall_score for baseline model : 0.00\n"
     ]
    },
    {
     "name": "stderr",
     "output_type": "stream",
     "text": [
      "C:\\ProgramData\\Anaconda3\\lib\\site-packages\\sklearn\\metrics\\_classification.py:1245: UndefinedMetricWarning: Precision is ill-defined and being set to 0.0 due to no predicted samples. Use `zero_division` parameter to control this behavior.\n",
      "  _warn_prf(average, modifier, msg_start, len(result))\n"
     ]
    }
   ],
   "source": [
    " print('precision_score for baseline model : {0:.2f}'.format(precision_score(y_test,dummy_model.predict(X_test),pos_label = \"Destined for disposal\")))"
   ]
  },
  {
   "cell_type": "code",
   "execution_count": 50,
   "id": "259a8048",
   "metadata": {},
   "outputs": [
    {
     "name": "stdout",
     "output_type": "stream",
     "text": [
      "[[     0 101290]\n",
      " [     0 128380]]\n"
     ]
    }
   ],
   "source": [
    "print(confusion_matrix(y_test,dummy_model.predict(X_test)))"
   ]
  },
  {
   "cell_type": "markdown",
   "id": "7f8414fe",
   "metadata": {},
   "source": [
    "**Abbiamo costruito il nostro modello base e visto le performance_metrics su di esso.**\n",
    "\n",
    "**APPLICO ORA UN MODELLO DI CLASSIFICAZIONE, LA REGRESSIONE LOGISTICA**"
   ]
  },
  {
   "cell_type": "code",
   "execution_count": 70,
   "id": "8471da31",
   "metadata": {},
   "outputs": [],
   "source": [
    "from sklearn.linear_model import LogisticRegression"
   ]
  },
  {
   "cell_type": "code",
   "execution_count": 71,
   "id": "b076cca7",
   "metadata": {},
   "outputs": [],
   "source": [
    "model_lr_1 = LogisticRegression(random_state = 0)"
   ]
  },
  {
   "cell_type": "code",
   "execution_count": 131,
   "id": "b1e0e08d",
   "metadata": {},
   "outputs": [
    {
     "name": "stdout",
     "output_type": "stream",
     "text": [
      "[1 0 1 ... 1 1 1]\n"
     ]
    },
    {
     "name": "stderr",
     "output_type": "stream",
     "text": [
      "<ipython-input-131-2713ebc0f197>:1: FutureWarning: elementwise comparison failed; returning scalar instead, but in the future will perform elementwise comparison\n",
      "  y_train[y_train == 'Destined for recovery'] = 1\n",
      "<ipython-input-131-2713ebc0f197>:2: FutureWarning: elementwise comparison failed; returning scalar instead, but in the future will perform elementwise comparison\n",
      "  y_train[y_train == 'Destined for disposal'] = 0\n"
     ]
    }
   ],
   "source": [
    "y_train[y_train == 'Destined for recovery'] = 1\n",
    "y_train[y_train == 'Destined for disposal'] = 0\n",
    "y_test[y_test == 'Destined for recovery'] = 1\n",
    "y_test[y_test == 'Destined for disposal'] = 0\n",
    "print(y_train)"
   ]
  },
  {
   "cell_type": "code",
   "execution_count": 133,
   "id": "b4a8fd42",
   "metadata": {},
   "outputs": [
    {
     "data": {
      "text/plain": [
       "LogisticRegression(random_state=0)"
      ]
     },
     "execution_count": 133,
     "metadata": {},
     "output_type": "execute_result"
    }
   ],
   "source": [
    "y_train = y_train.astype('int')\n",
    "y_test = y_test.astype('int')\n",
    "model_lr_1.fit(X_train[X_train.columns[:1]],y_train)"
   ]
  },
  {
   "cell_type": "code",
   "execution_count": 134,
   "id": "596a6279",
   "metadata": {},
   "outputs": [
    {
     "name": "stdout",
     "output_type": "stream",
     "text": [
      "score of Logistic Regression model : \n",
      "0.5589759219750077\n"
     ]
    }
   ],
   "source": [
    "print('score of Logistic Regression model : ') \n",
    "print(model_lr_1.score(X_test[X_test.columns[:1]],y_test))"
   ]
  },
  {
   "cell_type": "code",
   "execution_count": 144,
   "id": "902adeef",
   "metadata": {},
   "outputs": [
    {
     "name": "stdout",
     "output_type": "stream",
     "text": [
      "recall_score for baseline model : 0.00\n",
      "precision_score for baseline model : 0.00\n"
     ]
    },
    {
     "name": "stderr",
     "output_type": "stream",
     "text": [
      "C:\\ProgramData\\Anaconda3\\lib\\site-packages\\sklearn\\metrics\\_classification.py:1245: UndefinedMetricWarning: Precision is ill-defined and being set to 0.0 due to no predicted samples. Use `zero_division` parameter to control this behavior.\n",
      "  _warn_prf(average, modifier, msg_start, len(result))\n"
     ]
    },
    {
     "name": "stdout",
     "output_type": "stream",
     "text": [
      "[[     0 101290]\n",
      " [     0 128380]]\n"
     ]
    }
   ],
   "source": [
    "#la regressione logistica non ha portato a miglioramenti nello score anzi ha peggiorato il punteggio . Vediamo le altre metriche\n",
    "\n",
    "print('recall_score for baseline model : {0:.2f}'.format(recall_score(y_test,model_lr_1.predict(X_test[X_test.columns[:1]]),pos_label = 0)))\n",
    "\n",
    "print('precision_score for baseline model : {0:.2f}'.format(precision_score(y_test,model_lr_1.predict(X_test[X_test.columns[:1]]),pos_label = 0)))\n",
    "\n",
    "print(confusion_matrix(y_test,model_lr_1.predict(X_test[X_test.columns[:1]])))\n",
    "\n",
    "#tutto è rimasto indifferente"
   ]
  },
  {
   "cell_type": "code",
   "execution_count": null,
   "id": "9c129b25",
   "metadata": {},
   "outputs": [],
   "source": []
  },
  {
   "cell_type": "code",
   "execution_count": null,
   "id": "f0173a14",
   "metadata": {},
   "outputs": [],
   "source": []
  }
 ],
 "metadata": {
  "kernelspec": {
   "display_name": "Python 3",
   "language": "python",
   "name": "python3"
  },
  "language_info": {
   "codemirror_mode": {
    "name": "ipython",
    "version": 3
   },
   "file_extension": ".py",
   "mimetype": "text/x-python",
   "name": "python",
   "nbconvert_exporter": "python",
   "pygments_lexer": "ipython3",
   "version": "3.8.8"
  }
 },
 "nbformat": 4,
 "nbformat_minor": 5
}
